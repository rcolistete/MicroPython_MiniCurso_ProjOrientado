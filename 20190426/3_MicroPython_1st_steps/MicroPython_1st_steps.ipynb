{
 "cells": [
  {
   "cell_type": "markdown",
   "metadata": {},
   "source": [
    "# MicroPython 1st Steps"
   ]
  },
  {
   "cell_type": "markdown",
   "metadata": {},
   "source": [
    "As we are using LoPy4 board from Pycom, the main documentation to follow is the [Pycom documentation](https://docs.pycom.io/)."
   ]
  },
  {
   "cell_type": "markdown",
   "metadata": {},
   "source": [
    "The MicroPython boards need a computer (with Linux, Mac OS, Windows, etc) to program."
   ]
  },
  {
   "cell_type": "markdown",
   "metadata": {},
   "source": [
    "## USB connection"
   ]
  },
  {
   "cell_type": "markdown",
   "metadata": {},
   "source": [
    "IMHO, the easiest way to interact with MicroPython hardware is [connecting a USB cable](https://docs.pycom.io/chapter/gettingstarted/programming/repl/serial.html) and using the interactive prompt [(REPL - Read Evaluate Print Loop)](https://docs.pycom.io/chapter/gettingstarted/programming/repl/)\n",
    "Some software tools compatible with USB REPL on LoPy4 :\n",
    "- screen terminal tool on Linux/Mac OS);\n",
    "- PuTTY terminal tool (or similar) on Windows;\n",
    "- rshell terminal and file manager tools on Linux/Mac OS/Windows;\n",
    "- Atom with Pymakr plug-in on Linux/Mac OS/Windows;\n",
    "- Visual Studio Code with Pymakr plug-in on Linux/Mac OS/Windows.\n",
    "\n",
    "It is up to the user to choose the preferred tool. "
   ]
  },
  {
   "cell_type": "markdown",
   "metadata": {},
   "source": [
    "Important detail : from the 30 Expansion Boards, 12 are v3 (they have 2 buttons), the rest are v2 (only one button), they have different USB serial port names."
   ]
  },
  {
   "cell_type": "markdown",
   "metadata": {},
   "source": [
    "For example, using screen on Linux (terminal), with Expansion Board v3 :\n",
    "```\n",
    "screen /dev/ttyACM0 115200\n",
    "```\n",
    "while with Expansion Board v2 :\n",
    "```\n",
    "screen /dev/ttyUSB0 115200\n",
    "```\n",
    "Using rshell (made for Pyboard) with Expansion Board v3 :\n",
    "```\n",
    "rshell -p /dev/ttyACM0 -b 115200 --buffer-size 32 -a\n",
    "```\n",
    "Expansion Board v2 :\n",
    "```\n",
    "rshell -p /dev/USB0 -b 115200 --buffer-size 32 -a\n",
    "```"
   ]
  },
  {
   "cell_type": "markdown",
   "metadata": {},
   "source": [
    "[Introduction to MicroPython from Pycom](https://docs.pycom.io/chapter/gettingstarted/programming/micropython.html)\n",
    "\n",
    "[MicroPython Examples](https://docs.pycom.io/chapter/gettingstarted/programming/examples.html) show that MicroPython is like Python 3 (3.5)."
   ]
  },
  {
   "cell_type": "markdown",
   "metadata": {},
   "source": [
    "### MicroPython especific examples :"
   ]
  },
  {
   "cell_type": "markdown",
   "metadata": {},
   "source": [
    "From [Your First Pymakr Project](https://docs.pycom.io/chapter/gettingstarted/programming/first_project.html) :\n",
    "```Python\n",
    ">>> import pycom\n",
    ">>> import time\n",
    ">>> pycom.heartbeat(False)\n",
    ">>> while True:\n",
    "...     pycom.rgbled(0xFF0000)\n",
    "...     time.sleep(1)\n",
    "...     pycom.rgbled(0x00FF00)\n",
    "...     time.sleep(1)\n",
    "...     pycom.rgbled(0x0000FF)\n",
    "...     time.sleep(1)\n",
    "... \n",
    "```\n",
    "Ctrl+C to cancel the loop."
   ]
  },
  {
   "cell_type": "markdown",
   "metadata": {},
   "source": [
    "MicroPython Free RAM available on LoPy4 is huge because it has 4MB of PSRAM, where approx. 2.5MB are available to the user : \n",
    "```Python\n",
    ">>> import gc\n",
    ">>> gc.collect()\n",
    ">>> gc.mem_free()\n",
    "2560880\n",
    ">>> gc.mem_free()/1024\n",
    "2500.719\n",
    "```"
   ]
  },
  {
   "cell_type": "markdown",
   "metadata": {},
   "source": [
    "Math module on MicroPython has fewer objects than Python 3, and it uses only single precision floats on LoPy4 (but [on Pyboard there are firmwares with double precision](http://micropython.org/download)) :\n",
    "```Python\n",
    ">>> import math\n",
    ">>> dir(math)\n",
    "['__name__', 'e', 'pi', 'sqrt', 'pow', 'exp', 'log', 'cos', 'sin', 'tan', 'acos', 'asin', 'atan', 'atan2', 'ceil', 'copysign', 'fabs', 'floor', 'fmod', 'frexp', 'ldexp', 'modf', 'isfinite', 'isinf', 'isnan', 'trunc', 'radians', 'degrees']\n",
    ">>> len(dir(math))\n",
    "28\n",
    ">>> math.sin(math.pi/3)\n",
    "0.8660254\n",
    "```"
   ]
  },
  {
   "cell_type": "markdown",
   "metadata": {},
   "source": [
    "[ADC (Analog to Digital Converter) reading](https://docs.pycom.io/chapter/firmwareapi/pycom/machine/ADC.html) from a not connected pin (floating value)] :\n",
    "```Python\n",
    ">>> import machine\n",
    ">>> adc = machine.ADC()\n",
    ">>> apin = adc.channel(pin='P13')\n",
    ">>> apin()\n",
    "1856\n",
    ">>> apin()\n",
    "1843\n",
    "```"
   ]
  },
  {
   "cell_type": "markdown",
   "metadata": {},
   "source": [
    "## Telnet / FTP connection (using LoPy4 WiFi)"
   ]
  },
  {
   "cell_type": "markdown",
   "metadata": {},
   "source": [
    "Follow the [Telnet guide from Pycom](https://docs.pycom.io/chapter/gettingstarted/programming/repl/telnet.html), where the last 4 hexadecimal numbers of MAC address (written below the Expansion Board) composes the SSID (wifi access point name), e.g., 'lopy4-wlan-71b0'."
   ]
  },
  {
   "cell_type": "markdown",
   "metadata": {},
   "source": [
    "Follow the [FTP guide from Pycom](https://docs.pycom.io/chapter/gettingstarted/programming/FTP.html)."
   ]
  }
 ],
 "metadata": {
  "kernelspec": {
   "display_name": "Python 3",
   "language": "python",
   "name": "python3"
  },
  "language_info": {
   "codemirror_mode": {
    "name": "ipython",
    "version": 3
   },
   "file_extension": ".py",
   "mimetype": "text/x-python",
   "name": "python",
   "nbconvert_exporter": "python",
   "pygments_lexer": "ipython3",
   "version": "3.6.5"
  }
 },
 "nbformat": 4,
 "nbformat_minor": 2
}
