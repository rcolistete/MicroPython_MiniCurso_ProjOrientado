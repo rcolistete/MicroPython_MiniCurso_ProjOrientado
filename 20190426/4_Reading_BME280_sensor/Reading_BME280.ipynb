{
 "cells": [
  {
   "cell_type": "markdown",
   "metadata": {},
   "source": [
    "# Reading the Bosch BME280 pressure, humidity and temperature sensor"
   ]
  },
  {
   "cell_type": "markdown",
   "metadata": {},
   "source": [
    "Before, we need to connect the BME280 board which uses I2C bus (4 wires : VCC, GND, SCL, SDA). See the [I2C documentation](https://docs.pycom.io/chapter/firmwareapi/pycom/machine/I2C.html#i2cinitmode---baudrate100000-pinssda-scl) and the [Expansion Board] pins(https://docs.pycom.io/chapter/datasheets/boards/expansion3.html) documentation.\n",
    "\n",
    "We will use pins G16/GPIO16/P9 (SDA) and G17/GPIO17/P10 (SCL) on Expansion Board, so connect them via jumpers (wires) to BME280's SDA and SCL. Also VCC from BME280 to 3V3 for Expansion Board, and GND between them. "
   ]
  },
  {
   "cell_type": "markdown",
   "metadata": {},
   "source": [
    "[This BME280 MicroPython driver](https://github.com/neliogodoi/MicroPython-BME280) which has many configuration options for the BME280 sensor. Download the ['bme280.py' file](https://github.com/rcolistete/MicroPython_Tutorial_SciPy_2018/blob/master/4_Reading_BME280_sensor/bme280.py)."
   ]
  },
  {
   "cell_type": "markdown",
   "metadata": {},
   "source": [
    "To copy using rshell is very simple (before entering the repl) :\n",
    "```\n",
    "> cp bme280.py /pyboard/flash/lib/bme280.py\n",
    "```"
   ]
  },
  {
   "cell_type": "markdown",
   "metadata": {},
   "source": [
    "Initialiating I2C, loading the driver, initialiating the BME280 sensor :\n",
    "```Python\n",
    ">>> from machine import I2C\n",
    ">>> import bme280\n",
    ">>> i2c = I2C(0, I2C.MASTER)\n",
    ">>> i2c.scan()\n",
    "[118]\n",
    ">>> sensor = bme280.BME280(i2c=i2c)\n",
    ">>> sensor.\n",
    "pressure        __qualname__    values          read_raw_data\n",
    "__module__      temperature     humidity        altitude\n",
    "formated_values                 pressure_precision\n",
    "read_compensated_data           __init__\n",
    ">>> sensor.formated_values\n",
    "('22.85 C', '99661.15 Pa', '57.79395 %')\n",
    ">>> sensor.values\n",
    "(22.87, 99660.63, 57.58789)\n",
    "```"
   ]
  },
  {
   "cell_type": "markdown",
   "metadata": {},
   "source": [
    "Try your breath to increase the humidity readings :\n",
    "```Python\n",
    ">>> while True:\n",
    "...     print(sensor.humidity)\n",
    "... \n",
    "57.73145\n",
    "57.72168\n",
    "57.7334\n",
    "```"
   ]
  },
  {
   "cell_type": "markdown",
   "metadata": {},
   "source": [
    "From the [MicroPython Statistics module](https://github.com/rcolistete/MicroPython_Statistics), copy the \n",
    "\"statistics.py\" file to your LoPy4/FiPy. "
   ]
  },
  {
   "cell_type": "markdown",
   "metadata": {},
   "source": [
    "Some statistics (mean, variance, standard deviation), use Ctrl+E to paste in REPL :\n",
    "```Python\n",
    "def PressureLoopMeanStdDev(numReadings=100):\n",
    "    samples = [0.0]*numReadings\n",
    "    i = 0\n",
    "    while (i < numReadings):\n",
    "        pressure = sensor.pressure\n",
    "        samples[i] = pressure\n",
    "        i += 1\n",
    "    print(\"%u readings :\\n%s\" %(numReadings, str(samples)))\n",
    "    print(\"Mean of pressure readings (Pa) = %15.13f\" % mean(samples))\n",
    "    print(\"Standard deviation of pressure readings (Pa) = %15.13f\" % stdev(samples))\n",
    "```\n",
    "math module is needed :\n",
    "```Python\n",
    ">>> import math\n",
    ">>> from statistics import *\n",
    ">>> PressureLoopMeanStdDev()\n",
    "100 readings :\n",
    "[99660.61, 99660.3, 99660.41, 99659.94, 99659.86, 99659.63, 99659.4, 99659.4, 99659.56, 99659.9, 99660.06, 99660.12, 99660.12, 99660.45, 99660.29, 99660.29, 99659.73, 99659.56, 99659.34, 99659.9, 99659.73, 99660.12, 99659.97, 99660.53, 99660.53, 99660.92, 99660.59, 99660.76, 99660.2, 99660.36, 99660.02, 99659.7, 99659.77, 99659.77, 99659.77, 99660.17, 99660.17, 99660.41, 99660.56, 99660.23, 99660.23, 99660.23, 99659.67, 99660.23, 99660.07, 99660.46, 99660.3, 99660.14, 99660.2, 99660.2, 99660.2, 99660.43, 99659.81, 99658.85, 99658.52, 99658.13, 99658.36, 99658.75, 99658.42, 99658.81, 99658.65, 99658.65, 99659.21, 99658.89, 99658.72, 99658.49, 99658.16, 99658.33, 99658.33, 99658.56, 99658.72, 99659.12, 99659.12, 99659.51, 99659.36, 99659.19, 99659.19, 99658.86, 99658.13, 99657.96, 99657.96, 99658.36, 99658.2, 99658.03, 99658.59, 99658.43, 99658.82, 99658.82, 99658.43, 99658.26, 99658.03, 99657.87, 99657.7, 99657.55, 99657.6, 99657.6, 99658.16, 99657.84, 99658.0, 99658.0]\n",
    "Mean of pressure readings (Pa) = 99659.3189239501953\n",
    "Standard deviation of pressure readings = 0.9286836624146\n",
    "```"
   ]
  }
 ],
 "metadata": {
  "kernelspec": {
   "display_name": "Python 3",
   "language": "python",
   "name": "python3"
  },
  "language_info": {
   "codemirror_mode": {
    "name": "ipython",
    "version": 3
   },
   "file_extension": ".py",
   "mimetype": "text/x-python",
   "name": "python",
   "nbconvert_exporter": "python",
   "pygments_lexer": "ipython3",
   "version": "3.7.1"
  }
 },
 "nbformat": 4,
 "nbformat_minor": 2
}
