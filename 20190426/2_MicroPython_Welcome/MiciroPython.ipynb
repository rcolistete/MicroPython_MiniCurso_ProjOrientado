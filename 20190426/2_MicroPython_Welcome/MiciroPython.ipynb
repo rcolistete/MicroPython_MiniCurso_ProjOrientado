{
 "cells": [
  {
   "cell_type": "markdown",
   "metadata": {},
   "source": [
    "### Look at the [\"Scientific MicroPython on Microcontrollers and IoT\" talk](http://www.robertocolistete.net/MicroPythonSciPy2017/#/) given on SciPy 2017, where MicroPython was presented and all official MicroPython boards are cited."
   ]
  },
  {
   "cell_type": "markdown",
   "metadata": {},
   "source": [
    "New MicroPython boards in 2018 :\n",
    "- [Pyboard D](https://forum.micropython.org/viewtopic.php?f=19&t=4957), with STM32F7xx microcontroller, plus WiFi and Bluetooth LE, low power consumptions (to be available at 2018H2)"
   ]
  }
 ],
 "metadata": {
  "kernelspec": {
   "display_name": "Python 3",
   "language": "python",
   "name": "python3"
  },
  "language_info": {
   "codemirror_mode": {
    "name": "ipython",
    "version": 3
   },
   "file_extension": ".py",
   "mimetype": "text/x-python",
   "name": "python",
   "nbconvert_exporter": "python",
   "pygments_lexer": "ipython3",
   "version": "3.6.4"
  }
 },
 "nbformat": 4,
 "nbformat_minor": 2
}
