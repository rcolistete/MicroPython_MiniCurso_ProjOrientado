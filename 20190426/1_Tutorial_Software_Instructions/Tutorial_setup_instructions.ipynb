{
 "cells": [
  {
   "cell_type": "markdown",
   "metadata": {},
   "source": [
    "# MicroPython com IoT\n",
    "## Instruções de configuração"
   ]
  },
  {
   "cell_type": "markdown",
   "metadata": {},
   "source": [
    "The speakers will bring one hardware kit, i.e. :\n",
    "- 1 microcontroller board ([LoPy4 from Pycom](https://pycom.io/hardware/lopy4-specs/)) with WiFi, Bluetooth, LoRa and SigFox with MicroPython installed;\n",
    "- 1 [Expansion Board](https://pycom.io/product/expansion-board-3-0/);\n",
    "- 1 pressure/humidity/temperature I2C sensor, [BME280](https://www.bosch-sensortec.com/bst/products/all_products/bme280);\n",
    "- jumper cables;\n",
    "\n",
    "for each of one of the 17 attendees.\n",
    "\n",
    "Each attendee is expected to have a Linux or Mac OS or Windows computer with an microUSB cable,\n",
    "plus the following free softwares installed​ :\n",
    "- [Telnet](https://docs.pycom.io/chapter/gettingstarted/programming/repl/telnet.html) and [FTP clients](https://docs.pycom.io/chapter/gettingstarted/programming/FTP.html);\n",
    "- terminal tool (screen on Linux/Mac OS), PuTTY (or similar) on Windows;\n",
    "https://docs.pycom.io/chapter/gettingstarted/installation/drivers.html\n",
    "https://docs.pycom.io/chapter/gettingstarted/programming/repl/serial.html\n",
    "- [rshell](https://github.com/dhylands/rshell);\n",
    "- [ampy](https://github.com/adafruit/ampy);\n",
    "- [Atom editor](https://atom.io/) with [PyMakr plugin](https://docs.pycom.io/chapter/pymakr/installation/atom.html)\n",
    "- and/or [Visual Studio Code](https://code.visualstudio.com/) with [PyMakr plugin](https://docs.pycom.io/chapter/pymakr/installation/vscode.html) :\n",
    "\n",
    "Some tools above are redundant, but it is better to have some redundancy if some tool doesn't work on the\n",
    "attendee configuration, and to the attendee chose which one is of his/her preference."
   ]
  },
  {
   "cell_type": "code",
   "execution_count": null,
   "metadata": {},
   "outputs": [],
   "source": []
  }
 ],
 "metadata": {
  "kernelspec": {
   "display_name": "Python 3",
   "language": "python",
   "name": "python3"
  },
  "language_info": {
   "codemirror_mode": {
    "name": "ipython",
    "version": 3
   },
   "file_extension": ".py",
   "mimetype": "text/x-python",
   "name": "python",
   "nbconvert_exporter": "python",
   "pygments_lexer": "ipython3",
   "version": "3.6.5"
  }
 },
 "nbformat": 4,
 "nbformat_minor": 2
}
